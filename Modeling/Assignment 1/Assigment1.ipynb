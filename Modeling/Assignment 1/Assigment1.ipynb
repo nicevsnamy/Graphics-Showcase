{
 "cells": [
  {
   "cell_type": "markdown",
   "metadata": {},
   "source": [
    "# Neighborhood Computations"
   ]
  },
  {
   "cell_type": "code",
   "execution_count": 119,
   "metadata": {},
   "outputs": [],
   "source": [
    "import numpy as np\n",
    "import igl\n",
    "import meshplot\n",
    "meshplot.offline()"
   ]
  },
  {
   "cell_type": "code",
   "execution_count": 120,
   "metadata": {},
   "outputs": [],
   "source": [
    "bunny_v, bunny_f = igl.read_triangle_mesh(\"data/bunny.off\")\n",
    "cube_v, cube_f = igl.read_triangle_mesh(\"data/cube.obj\")\n",
    "sphere_v, sphere_f = igl.read_triangle_mesh(\"data/sphere.obj\")\n",
    "\n",
    "v = cube_v.copy()\n",
    "f = cube_f.copy()"
   ]
  },
  {
   "cell_type": "code",
   "execution_count": 121,
   "metadata": {},
   "outputs": [
    {
     "name": "stdout",
     "output_type": "stream",
     "text": [
      "Plot saved to file default_bunny.html.\n"
     ]
    },
    {
     "data": {
      "text/plain": [
       "<meshplot.Viewer.Viewer at 0x15d998f54f0>"
      ]
     },
     "execution_count": 121,
     "metadata": {},
     "output_type": "execute_result"
    }
   ],
   "source": [
    "meshplot.plot(bunny_v, bunny_f, shading={\"wireframe\": True}, filename = \"default_bunny\")"
   ]
  },
  {
   "cell_type": "code",
   "execution_count": 122,
   "metadata": {},
   "outputs": [
    {
     "name": "stdout",
     "output_type": "stream",
     "text": [
      "Plot saved to file default_cube.html.\n"
     ]
    }
   ],
   "source": [
    "p = meshplot.plot(cube_v, cube_f, shading={\"wireframe\": True}, filename = \"default_cube\")"
   ]
  },
  {
   "cell_type": "code",
   "execution_count": 123,
   "metadata": {},
   "outputs": [
    {
     "name": "stdout",
     "output_type": "stream",
     "text": [
      "Plot saved to file default_sphere.html.\n"
     ]
    },
    {
     "data": {
      "text/plain": [
       "<meshplot.Viewer.Viewer at 0x15d99a91670>"
      ]
     },
     "execution_count": 123,
     "metadata": {},
     "output_type": "execute_result"
    }
   ],
   "source": [
    "meshplot.plot(sphere_v, sphere_f, shading={\"wireframe\": True}, filename = \"default_sphere\")"
   ]
  },
  {
   "cell_type": "code",
   "execution_count": 124,
   "metadata": {},
   "outputs": [],
   "source": [
    "## Vertex-to-Face Relations"
   ]
  },
  {
   "cell_type": "code",
   "execution_count": null,
   "metadata": {},
   "outputs": [],
   "source": []
  },
  {
   "cell_type": "markdown",
   "metadata": {},
   "source": [
    "## Vertex-to-Vertex Relations"
   ]
  },
  {
   "cell_type": "code",
   "execution_count": 125,
   "metadata": {},
   "outputs": [
    {
     "name": "stdout",
     "output_type": "stream",
     "text": [
      "Vertex to face relation\n",
      " (array([ 0,  6,  7, 10, 11,  0,  1,  7,  8,  0,  1,  2, 11,  1,  2,  3,  8,\n",
      "        9,  2,  3,  4, 10, 11,  3,  4,  5,  9,  4,  5,  6, 10,  5,  6,  7,\n",
      "        8,  9], dtype=int32), array([ 0,  5,  9, 13, 18, 23, 27, 31, 36, 36, 36, 36, 36], dtype=int32)) \n",
      "first array contains all the faces a vertice touches, the second array will tell the indexes where a new triangle starts and the index of said position will be the face number\n",
      "Vertex to Vertex relation\n",
      " [[1, 2, 4, 6, 7], [0, 2, 3, 7], [0, 1, 3, 4], [1, 2, 4, 5, 7], [0, 2, 3, 5, 6], [3, 4, 6, 7], [0, 4, 5, 7], [0, 1, 3, 5, 6]] a 2d array, where each array corrisponds to a vertex, and the components of each vertex are adjacent vertices\n",
      "Face construction\n",
      " [[0 1 2]\n",
      " [2 1 3]\n",
      " [2 3 4]\n",
      " [4 3 5]\n",
      " [4 5 6]\n",
      " [6 5 7]\n",
      " [6 7 0]\n",
      " [0 7 1]\n",
      " [1 7 3]\n",
      " [3 7 5]\n",
      " [6 0 4]\n",
      " [4 0 2]]\n",
      "Vertex positions\n",
      " [[-0.5 -0.5  0.5]\n",
      " [ 0.5 -0.5  0.5]\n",
      " [-0.5  0.5  0.5]\n",
      " [ 0.5  0.5  0.5]\n",
      " [-0.5  0.5 -0.5]\n",
      " [ 0.5  0.5 -0.5]\n",
      " [-0.5 -0.5 -0.5]\n",
      " [ 0.5 -0.5 -0.5]]\n"
     ]
    }
   ],
   "source": [
    "\n",
    "vertex_face_relation = igl.vertex_triangle_adjacency(f,len(f))\n",
    "vertex_vertex_relation = igl.adjacency_list(f)\n",
    "print(\"Vertex to face relation\\n\",vertex_face_relation,\"\\nfirst array contains all the faces a vertice touches, the second array will tell the indexes where a new triangle starts and the index of said position will be the face number\")\n",
    "print(\"Vertex to Vertex relation\\n\",vertex_vertex_relation,\"a 2d array, where each array corrisponds to a vertex, and the components of each vertex are adjacent vertices\")\n",
    "print(\"Face construction\\n\",f)\n",
    "print(\"Vertex positions\\n\",v)"
   ]
  },
  {
   "cell_type": "markdown",
   "metadata": {},
   "source": [
    "## Shading\n",
    "\n",
    "Meshplot requires per vertex normals, so we need to \"explode\" the mesh"
   ]
  },
  {
   "cell_type": "code",
   "execution_count": 126,
   "metadata": {},
   "outputs": [
    {
     "name": "stdout",
     "output_type": "stream",
     "text": [
      "[[ 0  1  2]\n",
      " [ 3  4  5]\n",
      " [ 6  7  8]\n",
      " [ 9 10 11]\n",
      " [12 13 14]\n",
      " [15 16 17]\n",
      " [18 19 20]\n",
      " [21 22 23]\n",
      " [24 25 26]\n",
      " [27 28 29]\n",
      " [30 31 32]\n",
      " [33 34 35]]\n",
      "[[-0.5 -0.5  0.5]\n",
      " [ 0.5 -0.5  0.5]\n",
      " [-0.5  0.5  0.5]\n",
      " [-0.5  0.5  0.5]\n",
      " [ 0.5 -0.5  0.5]\n",
      " [ 0.5  0.5  0.5]\n",
      " [-0.5  0.5  0.5]\n",
      " [ 0.5  0.5  0.5]\n",
      " [-0.5  0.5 -0.5]\n",
      " [-0.5  0.5 -0.5]\n",
      " [ 0.5  0.5  0.5]\n",
      " [ 0.5  0.5 -0.5]\n",
      " [-0.5  0.5 -0.5]\n",
      " [ 0.5  0.5 -0.5]\n",
      " [-0.5 -0.5 -0.5]\n",
      " [-0.5 -0.5 -0.5]\n",
      " [ 0.5  0.5 -0.5]\n",
      " [ 0.5 -0.5 -0.5]\n",
      " [-0.5 -0.5 -0.5]\n",
      " [ 0.5 -0.5 -0.5]\n",
      " [-0.5 -0.5  0.5]\n",
      " [-0.5 -0.5  0.5]\n",
      " [ 0.5 -0.5 -0.5]\n",
      " [ 0.5 -0.5  0.5]\n",
      " [ 0.5 -0.5  0.5]\n",
      " [ 0.5 -0.5 -0.5]\n",
      " [ 0.5  0.5  0.5]\n",
      " [ 0.5  0.5  0.5]\n",
      " [ 0.5 -0.5 -0.5]\n",
      " [ 0.5  0.5 -0.5]\n",
      " [-0.5 -0.5 -0.5]\n",
      " [-0.5 -0.5  0.5]\n",
      " [-0.5  0.5 -0.5]\n",
      " [-0.5  0.5 -0.5]\n",
      " [-0.5 -0.5  0.5]\n",
      " [-0.5  0.5  0.5]]\n"
     ]
    }
   ],
   "source": [
    "# give each face 3 unique vertexes\n",
    "new_f = f.copy()\n",
    "map_list = []\n",
    "for i in range (0,len(f)):\n",
    "    for j in range (0,len(f[i])):\n",
    "        #print (i*len(f[i])+j)\n",
    "        map_list.append(new_f[i][j])\n",
    "        new_f[i][j] = i*len(f[i])+j\n",
    "print(new_f)\n",
    "#print(map_list)\n",
    "\n",
    "# copy old vertices to create new vertices\n",
    "new_v = np.array([[0.0, 0.0, 0.0]]*len(map_list))\n",
    "for i in range(0,len(map_list)):\n",
    "    new_v[i] = v[map_list[i]]\n",
    "print(new_v)"
   ]
  },
  {
   "cell_type": "markdown",
   "metadata": {},
   "source": [
    "### Flat Shading"
   ]
  },
  {
   "cell_type": "code",
   "execution_count": 127,
   "metadata": {},
   "outputs": [
    {
     "name": "stdout",
     "output_type": "stream",
     "text": [
      "[[ 0.  0.  1.]\n",
      " [-0.  0.  1.]\n",
      " [-0.  1.  0.]\n",
      " [ 0.  1.  0.]\n",
      " [ 0.  0. -1.]\n",
      " [ 0.  0. -1.]\n",
      " [ 0. -1.  0.]\n",
      " [ 0. -1.  0.]\n",
      " [ 1. -0.  0.]\n",
      " [ 1.  0.  0.]\n",
      " [-1.  0.  0.]\n",
      " [-1.  0.  0.]]\n",
      "Plot saved to file flat_shading.html.\n"
     ]
    }
   ],
   "source": [
    "list2 = [[0.0],[0.0],[0.0]]\n",
    "n = igl.per_face_normals(new_v,new_f,np.array(list2))\n",
    "print(n)\n",
    "p = meshplot.plot(new_v, new_f, n=n, shading={\"flat\": True}, filename = \"flat_shading\")\n",
    "#p.add_lines(new_v, new_v + 0.01*n)"
   ]
  },
  {
   "cell_type": "markdown",
   "metadata": {},
   "source": [
    "### Per-vertex Shading"
   ]
  },
  {
   "cell_type": "code",
   "execution_count": 128,
   "metadata": {},
   "outputs": [
    {
     "name": "stdout",
     "output_type": "stream",
     "text": [
      "Plot saved to file per_vertex_shading.html.\n"
     ]
    }
   ],
   "source": [
    "n = igl.per_vertex_normals(new_v, new_f)\n",
    "#print(n)\n",
    "#print(map_list)\n",
    "new_n = np.array([[0.0, 0.0, 0.0]]*len(v))\n",
    "list_n = [[0.0,0.0,0.0]] * len(v)\n",
    "for j in range (0,len(v)):\n",
    "    x = 0;\n",
    "    y = 0;\n",
    "    z = 0;\n",
    "    c = 0;\n",
    "    for i in range(0,len(map_list)):\n",
    "        #print(map_list[i])\n",
    "        if(map_list[i] == j):\n",
    "            #print(\"match\")\n",
    "            x += new_v[j][0]\n",
    "            y += new_v[j][1]\n",
    "            z += new_v[j][2]\n",
    "            c += 1\n",
    "    if c != 0:\n",
    "        x = x/c\n",
    "        y = y/c\n",
    "        z = z/c\n",
    "    #print(x,y,z)\n",
    "    new_n[j] = x,y,z\n",
    "p = meshplot.plot(new_v, new_f, n=new_n, shading={\"flat\": False}, filename = \"per_vertex_shading\")\n",
    "#p.add_lines(v, v + 0.01*new_n)"
   ]
  },
  {
   "cell_type": "markdown",
   "metadata": {},
   "source": [
    "### Per-corner Shading"
   ]
  },
  {
   "cell_type": "code",
   "execution_count": 129,
   "metadata": {},
   "outputs": [
    {
     "name": "stdout",
     "output_type": "stream",
     "text": [
      "[[ 0.  0.  1.]\n",
      " [ 0.  0.  1.]\n",
      " [ 0.  0.  1.]\n",
      " [ 0.  0.  1.]\n",
      " [ 0.  0.  1.]\n",
      " [ 0.  0.  1.]\n",
      " [ 0.  1.  0.]\n",
      " [ 0.  1.  0.]\n",
      " [ 0.  1.  0.]\n",
      " [ 0.  1.  0.]\n",
      " [ 0.  1.  0.]\n",
      " [ 0.  1.  0.]\n",
      " [ 0.  0. -1.]\n",
      " [ 0.  0. -1.]\n",
      " [ 0.  0. -1.]\n",
      " [ 0.  0. -1.]\n",
      " [ 0.  0. -1.]\n",
      " [ 0.  0. -1.]\n",
      " [ 0. -1.  0.]\n",
      " [ 0. -1.  0.]\n",
      " [ 0. -1.  0.]\n",
      " [ 0. -1.  0.]\n",
      " [ 0. -1.  0.]\n",
      " [ 0. -1.  0.]\n",
      " [ 1.  0.  0.]\n",
      " [ 1.  0.  0.]\n",
      " [ 1.  0.  0.]\n",
      " [ 1.  0.  0.]\n",
      " [ 1.  0.  0.]\n",
      " [ 1.  0.  0.]\n",
      " [-1.  0.  0.]\n",
      " [-1.  0.  0.]\n",
      " [-1.  0.  0.]\n",
      " [-1.  0.  0.]\n",
      " [-1.  0.  0.]\n",
      " [-1.  0.  0.]]\n",
      "[[-0.5 -0.5  0.5]\n",
      " [ 0.5 -0.5  0.5]\n",
      " [-0.5  0.5  0.5]\n",
      " [-0.5  0.5  0.5]\n",
      " [ 0.5 -0.5  0.5]\n",
      " [ 0.5  0.5  0.5]\n",
      " [-0.5  0.5  0.5]\n",
      " [ 0.5  0.5  0.5]]\n",
      "Plot saved to file per_corner_shading.html.\n"
     ]
    }
   ],
   "source": [
    "n = igl.per_corner_normals(new_v, new_f,0.2)\n",
    "print(n)\n",
    "new_n = np.array([[0.0, 0.0, 0.0]]*len(v))\n",
    "list_n = [[0.0,0.0,0.0]] * len(v)\n",
    "for j in range (0,len(v)):\n",
    "    x = 0;\n",
    "    y = 0;\n",
    "    z = 0;\n",
    "    c = 0;\n",
    "    for i in range(0,len(map_list)):\n",
    "        #print(map_list[i])\n",
    "        if(map_list[i] == j):\n",
    "            #print(\"match\")\n",
    "            x += new_v[j][0]\n",
    "            y += new_v[j][1]\n",
    "            z += new_v[j][2]\n",
    "            c += 1\n",
    "    if c != 0:\n",
    "        x = x/c\n",
    "        y = y/c\n",
    "        z = z/c\n",
    "    #print(x,y,z)\n",
    "    new_n[j] = x,y,z\n",
    "print(new_n)\n",
    "p = meshplot.plot(new_v, new_f, n=new_n, shading={\"flat\": False}, filename = \"per_corner_shading\")"
   ]
  },
  {
   "cell_type": "markdown",
   "metadata": {},
   "source": [
    "## Connected Components"
   ]
  },
  {
   "cell_type": "code",
   "execution_count": 130,
   "metadata": {},
   "outputs": [
    {
     "name": "stdout",
     "output_type": "stream",
     "text": [
      "[0 0 0 0 0 0 0 0 0 0 0 0] size of shape: 12 number of components: 1\n",
      "Component number: 0 Size of component: 12\n",
      "Plot saved to file connect_components.html.\n"
     ]
    }
   ],
   "source": [
    "c = igl.face_components(f)\n",
    "print(c, \"size of shape:\", len(c), \"number of components:\", max(c) + 1)\n",
    "for i in range (0, max(c + 1)):\n",
    "    count = 0\n",
    "    for j in range (0, len(c)):\n",
    "        if(i == c[j]):\n",
    "            count += 1\n",
    "    print(\"Component number:\", i, \"Size of component:\", count)\n",
    "p = meshplot.plot(v, f, c=c, filename = \"connect_components\")"
   ]
  },
  {
   "cell_type": "markdown",
   "metadata": {},
   "source": [
    "## A simple subdivision scheme"
   ]
  },
  {
   "cell_type": "code",
   "execution_count": 131,
   "metadata": {},
   "outputs": [
    {
     "name": "stdout",
     "output_type": "stream",
     "text": [
      "Plot saved to file simple_sub_phase1.html.\n",
      "Plot saved to file simple_sub_phase2.html.\n",
      "Plot saved to file simple_sub_final.html.\n"
     ]
    }
   ],
   "source": [
    "# NOTE: this algorithm is very inefficient, but it works for the sphere and cube. The bunny does work, it just takes forever\n",
    "\n",
    "# initialize the double prime\n",
    "f_double_prime = np.zeros((len(f)*3,3))\n",
    "# silly method to initialize the array since numpy is dumb, use better method in future\n",
    "v_double_prime = np.zeros((len(v)+len(f),3))\n",
    "for i in range(0,len(v)):\n",
    "    v_double_prime[i] = v[i]\n",
    "# Loop through all the faces and create a new midpoint vertex\n",
    "for i in range(0,len(f)):\n",
    "    m_f = np.array([0,0,0])\n",
    "    # location of new vertex to add\n",
    "    m_f = v[f[i][0]]/3 + v[f[i][1]]/3 + v[f[i][2]]/3\n",
    "    # add new vertex to list\n",
    "    v_double_prime[i+len(v)] = m_f\n",
    "    # create new triangles to the list\n",
    "    t_1 = np.array((f[i][0],f[i][1],i+len(v)))\n",
    "    t_2 = np.array((f[i][0],i+len(v),f[i][2]))\n",
    "    t_3 = np.array((i+len(v),f[i][1],f[i][2]))\n",
    "    f_double_prime[(i*3)] = t_1\n",
    "    f_double_prime[(i*3)+1] = t_2\n",
    "    f_double_prime[(i*3)+2] = t_3\n",
    "p = meshplot.plot(v_double_prime, f_double_prime, shading={\"wireframe\": True},filename=\"simple_sub_phase1\")\n",
    "adj = igl.adjacency_list(f)\n",
    "v_prime = np.zeros((len(v)+len(f),3))\n",
    "# loop through all of the old vertices\n",
    "for i in range (0,len(adj)):\n",
    "    x = 0\n",
    "    y = 0\n",
    "    z = 0\n",
    "    degree = len(adj[i])\n",
    "    a_n = (4-(2*np.cos((2*np.pi)/degree)))/9\n",
    "    #sum up the positions of adjacent vertices\n",
    "    for j in range (0, degree):\n",
    "        x += v[adj[i][j]][0]\n",
    "        y += v[adj[i][j]][1]\n",
    "        z += v[adj[i][j]][2]\n",
    "    neighbor_pos = np.array((x,y,z)) * (a_n/degree)\n",
    "    original_pos = (1-a_n) * v[i]\n",
    "    new_pos = original_pos + neighbor_pos\n",
    "    v_prime[i] = new_pos\n",
    "    \n",
    "# append vertices from v_double_prime to v_prime\n",
    "for i in range(len(adj),len(v_prime)):\n",
    "    v_prime[i] = v_double_prime[i]\n",
    "\n",
    "p = meshplot.plot(v_prime, f_double_prime, shading={\"wireframe\": True},filename=\"simple_sub_phase2\")\n",
    "# convert the numpy array to int64 to work with edge_topology\n",
    "f_double_prime = f_double_prime.astype('int64')\n",
    "f_prime = f_double_prime.copy()\n",
    "ev, fe, ef = igl.edge_topology(v_prime, f_double_prime)\n",
    "# get every old edge\n",
    "for i in range(0,len(ev)):\n",
    "    if ev[i][0] < len(v) and ev[i][1] < len(v):\n",
    "        triangle_id1 = -1\n",
    "        triangle_id2 = -1\n",
    "        # find the two triangles that share this edge number, from this we can get the vertices\n",
    "        for j in range(0,len(fe)):\n",
    "            if(fe[j][0] == i or fe[j][1] == i or fe[j][2] == i):\n",
    "                if(triangle_id1 == -1):\n",
    "                    triangle_id1 = j\n",
    "                else:\n",
    "                    triangle_id2 = j\n",
    "        # isolate the unique alpha and beta vertices that are not part of the edge\n",
    "        alpha = -1\n",
    "        beta = -1\n",
    "        if f_double_prime[triangle_id1][0] != ev[i][0] and f_double_prime[triangle_id1][0] != ev[i][1]:\n",
    "            alpha = f_double_prime[triangle_id1][0]\n",
    "        elif f_double_prime[triangle_id1][1] != ev[i][0] and f_double_prime[triangle_id1][1] != ev[i][1]:\n",
    "            alpha = f_double_prime[triangle_id1][1]\n",
    "        else:\n",
    "            alpha = f_double_prime[triangle_id1][2]\n",
    "            \n",
    "        if f_double_prime[triangle_id2][0] != ev[i][0] and f_double_prime[triangle_id2][0] != ev[i][1]:\n",
    "            beta = f_double_prime[triangle_id2][0]\n",
    "        elif f_double_prime[triangle_id2][1] != ev[i][0] and f_double_prime[triangle_id2][1] != ev[i][1]:\n",
    "            beta= f_double_prime[triangle_id2][1]\n",
    "        else:\n",
    "            beta = f_double_prime[triangle_id2][2]\n",
    "            \n",
    "        # create the swapped edge triangles and replace the originals in f_prime, make sure to leave f_double_prime unchanged.\n",
    "        f_prime[triangle_id1] = np.array((ev[i][0],alpha,beta))\n",
    "        f_prime[triangle_id2] = np.array((ev[i][1],alpha,beta))\n",
    "\n",
    "p = meshplot.plot(v_prime, f_prime, shading={\"wireframe\": True},filename=\"simple_sub_final\")"
   ]
  },
  {
   "cell_type": "code",
   "execution_count": null,
   "metadata": {},
   "outputs": [],
   "source": []
  }
 ],
 "metadata": {
  "kernelspec": {
   "display_name": "Python 3 (ipykernel)",
   "language": "python",
   "name": "python3"
  },
  "language_info": {
   "codemirror_mode": {
    "name": "ipython",
    "version": 3
   },
   "file_extension": ".py",
   "mimetype": "text/x-python",
   "name": "python",
   "nbconvert_exporter": "python",
   "pygments_lexer": "ipython3",
   "version": "3.9.12"
  }
 },
 "nbformat": 4,
 "nbformat_minor": 4
}
