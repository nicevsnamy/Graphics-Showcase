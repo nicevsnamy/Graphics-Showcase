{
 "cells": [
  {
   "cell_type": "markdown",
   "metadata": {},
   "source": [
    "# Assigment 4"
   ]
  },
  {
   "cell_type": "code",
   "execution_count": 76,
   "metadata": {},
   "outputs": [],
   "source": [
    "import math\n",
    "import numpy as np\n",
    "import scipy.sparse as sp\n",
    "\n",
    "from random import seed\n",
    "from random import random\n",
    "\n",
    "import igl\n",
    "import meshplot as mp\n",
    "mp.offline()\n",
    "from math import sqrt"
   ]
  },
  {
   "cell_type": "code",
   "execution_count": 31,
   "metadata": {},
   "outputs": [],
   "source": [
    "v, f = igl.read_triangle_mesh(\"data/irr4-cyl2.off\")\n",
    "tt, _ = igl.triangle_triangle_adjacency(f)\n",
    "\n",
    "c = np.loadtxt(\"data/irr4-cyl2.constraints\")\n",
    "cf = c[:, 0].astype(np.int64)\n",
    "c = c[:, 1:]"
   ]
  },
  {
   "cell_type": "code",
   "execution_count": 32,
   "metadata": {},
   "outputs": [],
   "source": [
    "def align_field(V, F, TT, soft_id, soft_value, llambda):\n",
    "    assert(soft_id[0] > 0)\n",
    "    assert(soft_id.shape[0] == soft_value.shape[0])\n",
    "\n",
    "    \n",
    "    # Edges\n",
    "    e1 = V[F[:, 1], :] - V[F[:, 0], :]\n",
    "    e2 = V[F[:, 2], :] - V[F[:, 0], :]\n",
    "\n",
    "    # Compute the local reference systems for each face, T1, T2\n",
    "    T1 = e1 / np.linalg.norm(e1, axis=1)[:,None]\n",
    "        \n",
    "    T2 =  np.cross(T1, np.cross(T1, e2))\n",
    "    T2 /= np.linalg.norm(T2, axis=1)[:,None]\n",
    "  \n",
    "    # Arrays for the entries of the matrix\n",
    "    data = []\n",
    "    ii = []\n",
    "    jj = []\n",
    "    \n",
    "    index = 0\n",
    "    for f in range(F.shape[0]):\n",
    "        for ei in range(3): # Loop over the edges\n",
    "            \n",
    "            # Look up the opposite face\n",
    "            g = TT[f, ei]\n",
    "            \n",
    "            # If it is a boundary edge, it does not contribute to the energy\n",
    "            # or avoid to count every edge twice\n",
    "            if g == -1 or f > g:\n",
    "                continue\n",
    "                \n",
    "            # Compute the complex representation of the common edge\n",
    "            e  = V[F[f, (ei+1)%3], :] - V[F[f, ei], :]\n",
    "            \n",
    "            vef = np.array([np.dot(e, T1[f, :]), np.dot(e, T2[f, :])])\n",
    "            vef /= np.linalg.norm(vef)\n",
    "            ef = (vef[0] + vef[1]*1j).conjugate()\n",
    "            \n",
    "            veg = np.array([np.dot(e, T1[g, :]), np.dot(e, T2[g, :])])\n",
    "            veg /= np.linalg.norm(veg)\n",
    "            eg = (veg[0] + veg[1]*1j).conjugate()\n",
    "            \n",
    "            \n",
    "            # Add the term conj(f)^n*ui - conj(g)^n*uj to the energy matrix\n",
    "            data.append(ef);  ii.append(index); jj.append(f)\n",
    "            data.append(-eg); ii.append(index); jj.append(g)\n",
    "\n",
    "            index += 1\n",
    "            \n",
    "    \n",
    "    sqrtl = sqrt(llambda)\n",
    "    \n",
    "    # Convert the constraints into the complex polynomial coefficients and add them as soft constraints\n",
    "    \n",
    "    # Rhs of the system\n",
    "    b = np.zeros(index + soft_id.shape[0], dtype=np.complex)\n",
    "    \n",
    "    for ci in range(soft_id.shape[0]):\n",
    "        f = soft_id[ci]\n",
    "        v = soft_value[ci, :]\n",
    "        \n",
    "        # Project on the local frame\n",
    "        c = np.dot(v, T1[f, :]) + np.dot(v, T2[f, :])*1j\n",
    "        \n",
    "        data.append(sqrtl); ii.append(index); jj.append(f)\n",
    "        b[index] = c * sqrtl\n",
    "        \n",
    "        index += 1\n",
    "    \n",
    "    assert(b.shape[0] == index)\n",
    "    \n",
    "    \n",
    "    # Solve the linear system\n",
    "    A = sp.coo_matrix((data, (ii, jj)), shape=(index, F.shape[0])).asformat(\"csr\")\n",
    "    u = sp.linalg.spsolve(A.H @ A, A.H @ b)\n",
    "    \n",
    "    R = T1 * u.real[:,None] + T2 * u.imag[:,None]\n",
    "    \n",
    "    return R"
   ]
  },
  {
   "cell_type": "code",
   "execution_count": 33,
   "metadata": {},
   "outputs": [],
   "source": [
    "def plot_mesh_field(V, F, R, constrain_faces):\n",
    "    # Highlight in red the constrained faces\n",
    "    col = np.ones_like(f)\n",
    "    col[constrain_faces, 1:] = 0\n",
    "    \n",
    "    # Scaling of the representative vectors\n",
    "    avg = igl.avg_edge_length(V, F)/2\n",
    "\n",
    "    #Plot from face barycenters\n",
    "    B = igl.barycenter(V, F)\n",
    "\n",
    "    p = mp.plot(V, F, c=col, filename = \"test\")\n",
    "    p.add_lines(B, B + R * avg)\n",
    "    \n",
    "    return p"
   ]
  },
  {
   "cell_type": "code",
   "execution_count": 36,
   "metadata": {},
   "outputs": [
    {
     "name": "stdout",
     "output_type": "stream",
     "text": [
      "Plot saved to file test.html.\n",
      "Interpolated field:\n",
      "[[ 0.23591955 -0.22720053  0.39047184]\n",
      " [-0.42277552  0.13051146 -0.14899512]\n",
      " [ 0.68709967 -0.24579442 -0.29458209]\n",
      " ...\n",
      " [ 0.44583999 -0.09987587  0.05341988]\n",
      " [ 0.3475595  -0.66810854  0.60711693]\n",
      " [ 0.40873459 -0.6707803   0.56895469]]\n",
      "Constraints:\n",
      "[[-0.86136    0.050168  -0.505512 ]\n",
      " [-0.822122   0.13914   -0.552047 ]\n",
      " [-0.761541   0.286908  -0.581154 ]\n",
      " [-0.527336   0.718255  -0.453902 ]\n",
      " [-0.426421   0.812406  -0.397695 ]\n",
      " [-0.173632   0.94519   -0.276528 ]\n",
      " [-0.12095    0.987557  -0.100515 ]\n",
      " [ 0.528064  -0.685298   0.501512 ]\n",
      " [ 0.485416  -0.738721   0.467614 ]\n",
      " [ 0.499676  -0.705184   0.50303  ]\n",
      " [ 0.566063  -0.704697   0.427757 ]\n",
      " [ 0.540817  -0.730976   0.416162 ]\n",
      " [ 0.562468  -0.68217    0.467198 ]\n",
      " [ 0.604154  -0.712722   0.356406 ]\n",
      " [ 0.631683  -0.639429   0.438301 ]\n",
      " [ 0.818211  -0.414128   0.398783 ]\n",
      " [ 0.817361  -0.21155   -0.53588  ]\n",
      " [ 0.772265  -0.0814812 -0.630054 ]\n",
      " [ 0.708944  -0.0922904 -0.699201 ]\n",
      " [ 0.659804  -0.0752781 -0.747658 ]]\n"
     ]
    },
    {
     "name": "stderr",
     "output_type": "stream",
     "text": [
      "C:\\Users\\nicev\\AppData\\Local\\Temp\\ipykernel_21028\\434597452.py:57: DeprecationWarning: `np.complex` is a deprecated alias for the builtin `complex`. To silence this warning, use `complex` by itself. Doing this will not modify any behavior and is safe. If you specifically wanted the numpy scalar type, use `np.complex128` here.\n",
      "Deprecated in NumPy 1.20; for more details and guidance: https://numpy.org/devdocs/release/1.20.0-notes.html#deprecations\n",
      "  b = np.zeros(index + soft_id.shape[0], dtype=np.complex)\n"
     ]
    }
   ],
   "source": [
    "R = align_field(v, f, tt, cf, c, 1e6)\n",
    "plot_mesh_field(v, f, R, cf)\n",
    "print(\"Interpolated field:\")\n",
    "print(R)\n",
    "print(\"Constraints:\")\n",
    "print(c)"
   ]
  },
  {
   "cell_type": "code",
   "execution_count": 70,
   "metadata": {},
   "outputs": [
    {
     "name": "stdout",
     "output_type": "stream",
     "text": [
      "(2268, 1)\n",
      "(411, 1)\n",
      "(2268, 411)\n",
      "(756, 3)\n"
     ]
    }
   ],
   "source": [
    "# part 2, I tried my best but have no idea what i'm doing really\n",
    "def reconstruct_scalar(vector_field):\n",
    "    # need to solve g = G@s\n",
    "    s = np.zeros((v.shape[0],1)) # should be #v by 1\n",
    "    G = np.zeros((f.shape[0]*3,1)) # should be 3#f by 1, use this to hold the barycentric \n",
    "    print(G.shape)\n",
    "    print(s.shape)\n",
    "    grad = igl.grad(v,f)\n",
    "    print(grad.shape)\n",
    "    area = igl.doublearea(v,f) # stores the 2A value\n",
    "    print(R.shape)\n",
    "    \n",
    "    # for every face, calculate the gradient function\n",
    "    for i in range(len(f)):\n",
    "        # compute the edges of the face\n",
    "        v1 = v[f[i][0]]\n",
    "        v2 = v[f[i][1]]\n",
    "        v3 = v[f[i][2]]\n",
    "        e1 = v2-v1\n",
    "        e2 = v3-v1\n",
    "        # create a perpendicular vector from this using cross product\n",
    "        e3 = np.cross(e1,e2)\n",
    "        \n",
    "        # now calculate w(perp)/2A\n",
    "        a1 = e3/area[i]\n",
    "        G[i*3] = a1[0]\n",
    "        G[(i*3)+1] = a1[1]\n",
    "        G[(i*3)+2] = a1[2]\n",
    "\n",
    "    # need to include this gt.T.reshape(gt.size, 1)\n",
    "    \n",
    "    \n",
    "    \n",
    "reconstruct_scalar(R)"
   ]
  },
  {
   "cell_type": "code",
   "execution_count": 89,
   "metadata": {},
   "outputs": [
    {
     "name": "stdout",
     "output_type": "stream",
     "text": [
      "[1. 1. 1. ... 1. 1. 1.]\n",
      "Plot saved to file harmonic_camel.html.\n",
      "Plot saved to file flat_harmonic_camel.html.\n"
     ]
    }
   ],
   "source": [
    "# harmonic\n",
    "\n",
    "v, f  = igl.read_triangle_mesh(\"data/camel_head.off\")\n",
    "## Find the open boundary\n",
    "bnd = igl.boundary_loop(f)\n",
    "\n",
    "## Map the boundary to a circle, preserving edge proportions\n",
    "bnd_uv = igl.map_vertices_to_circle(v, bnd)\n",
    "\n",
    "## Harmonic parametrization for the internal vertices\n",
    "uv = igl.harmonic_weights(v, f, bnd, bnd_uv, 1)\n",
    "v_p = np.hstack([uv, np.zeros((uv.shape[0],1))])\n",
    "\n",
    "ind = np.zeros((v.shape[0]))\n",
    "\n",
    "for i in range(uv.shape[0]):\n",
    "    if uv[i][0] > 0:\n",
    "        ind[i] = 1\n",
    "    else:\n",
    "        ind[i] = 2\n",
    "print(ind)\n",
    "\n",
    "# I used plot instead of subplot since subplot is broken on my machine, subplot elements aren't added\n",
    "p = mp.plot(v, f, c =ind, shading={\"wireframe\": False, \"flat\": False},filename=\"harmonic_camel\")\n",
    "p = mp.plot(v_p, f, uv=uv, c=ind, shading={\"wireframe\": True, \"flat\": False}, filename = \"flat_harmonic_camel\")"
   ]
  },
  {
   "cell_type": "code",
   "execution_count": 92,
   "metadata": {},
   "outputs": [
    {
     "name": "stdout",
     "output_type": "stream",
     "text": [
      "Plot saved to file lscm_camel.html.\n",
      "Plot saved to file flat_lscm_camel.html.\n"
     ]
    }
   ],
   "source": [
    "# lscm\n",
    "\n",
    "v, f = igl.read_triangle_mesh(\"data/camel_head.off\")\n",
    "\n",
    "# Fix two points on the boundary\n",
    "b = np.array([2, 1])\n",
    "\n",
    "bnd = igl.boundary_loop(f)\n",
    "b[0] = bnd[0]\n",
    "b[1] = bnd[int(bnd.size / 2)]\n",
    "\n",
    "bc = np.array([[0.0, 0.0], [1.0, 0.0]])\n",
    "\n",
    "# LSCM parametrization\n",
    "_, uv = igl.lscm(v, f, b, bc)\n",
    "\n",
    "ind = np.zeros((v.shape[0]))\n",
    "\n",
    "for i in range(uv.shape[0]):\n",
    "    if uv[i][0] > 0:\n",
    "        ind[i] = 1\n",
    "    else:\n",
    "        ind[i] = 2\n",
    "\n",
    "# I used plot instead of subplot since subplot is broken on my machine, subplot elements aren't added\n",
    "p = mp.plot(v, f, c=ind, shading={\"wireframe\": False, \"flat\": False}, filename=\"lscm_camel\")\n",
    "p = mp.plot(uv, f, uv=uv, shading={\"wireframe\": False, \"flat\": False}, filename=\"flat_lscm_camel\")"
   ]
  },
  {
   "cell_type": "code",
   "execution_count": 88,
   "metadata": {},
   "outputs": [
    {
     "name": "stdout",
     "output_type": "stream",
     "text": [
      "(411, 2)\n",
      "(2268, 1)\n",
      "(411, 1)\n",
      "(2268, 411)\n",
      "(756, 3)\n",
      "Plot saved to file edited_parameterization.html.\n"
     ]
    },
    {
     "name": "stderr",
     "output_type": "stream",
     "text": [
      "C:\\Users\\nicev\\AppData\\Local\\Temp\\ipykernel_21028\\434597452.py:57: DeprecationWarning: `np.complex` is a deprecated alias for the builtin `complex`. To silence this warning, use `complex` by itself. Doing this will not modify any behavior and is safe. If you specifically wanted the numpy scalar type, use `np.complex128` here.\n",
      "Deprecated in NumPy 1.20; for more details and guidance: https://numpy.org/devdocs/release/1.20.0-notes.html#deprecations\n",
      "  b = np.zeros(index + soft_id.shape[0], dtype=np.complex)\n"
     ]
    }
   ],
   "source": [
    "# part 4, can only give the vibe of how I would do it since I didn't complete part 2 so I con't complete the pipeline\n",
    "v, f = igl.read_triangle_mesh(\"data/irr4-cyl2.off\")\n",
    "# use part three to create the lscm\n",
    "# Fix two points on the boundary\n",
    "b = np.array([2, 1])\n",
    "\n",
    "bnd = igl.boundary_loop(f)\n",
    "b[0] = bnd[0]\n",
    "b[1] = bnd[int(bnd.size / 2)]\n",
    "\n",
    "bc = np.array([[0.0, 0.0], [1.0, 0.0]])\n",
    "\n",
    "# LSCM parametrization\n",
    "_, uv = igl.lscm(v, f, b, bc)\n",
    "print(uv.shape)\n",
    "\n",
    "# use part 1 to create vector field from constraints\n",
    "vector_field = align_field(v, f, tt, cf, c, 1e6)\n",
    "\n",
    "# use part 2 to create scalar field from vector field\n",
    "scalar_field = reconstruct_scalar(vector_field)\n",
    "\n",
    "# done since reconstruct_scalar is broken\n",
    "scalar_field = np.zeros((v.shape[0],1))\n",
    "for i in range(len(scalar_field)):\n",
    "    scalar_field[i] = 0.5\n",
    "\n",
    "# replace the v in uv with the scalar_field\n",
    "for i in range(len(uv)):\n",
    "    uv[i][1] = scalar_field[i]\n",
    "\n",
    "# output wrong due to skipping scalar field calculation\n",
    "p = mp.plot(v, f, uv=uv, shading={\"wireframe\": False, \"flat\": False}, filename=\"edited_parameterization\")"
   ]
  },
  {
   "cell_type": "code",
   "execution_count": null,
   "metadata": {},
   "outputs": [],
   "source": []
  }
 ],
 "metadata": {
  "kernelspec": {
   "display_name": "Python 3 (ipykernel)",
   "language": "python",
   "name": "python3"
  },
  "language_info": {
   "codemirror_mode": {
    "name": "ipython",
    "version": 3
   },
   "file_extension": ".py",
   "mimetype": "text/x-python",
   "name": "python",
   "nbconvert_exporter": "python",
   "pygments_lexer": "ipython3",
   "version": "3.9.12"
  }
 },
 "nbformat": 4,
 "nbformat_minor": 4
}
