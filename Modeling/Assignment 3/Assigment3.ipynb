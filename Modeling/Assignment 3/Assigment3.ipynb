{
 "cells": [
  {
   "cell_type": "markdown",
   "metadata": {},
   "source": [
    "# Assigment 3"
   ]
  },
  {
   "cell_type": "code",
   "execution_count": 1,
   "metadata": {},
   "outputs": [],
   "source": [
    "import numpy as np\n",
    "import igl\n",
    "import meshplot as mp\n",
    "import scipy.sparse as sp\n",
    "mp.offline()"
   ]
  },
  {
   "cell_type": "code",
   "execution_count": 2,
   "metadata": {},
   "outputs": [
    {
     "name": "stdout",
     "output_type": "stream",
     "text": [
      "Plot saved to file Bunny.html.\n"
     ]
    },
    {
     "data": {
      "text/plain": [
       "<meshplot.Viewer.Viewer at 0x281716a1b20>"
      ]
     },
     "execution_count": 2,
     "metadata": {},
     "output_type": "execute_result"
    }
   ],
   "source": [
    "v, f = igl.read_triangle_mesh(\"data/bunny.off\")\n",
    "mp.plot(v, f, shading={\"wireframe\": True},filename = \"Bunny\")"
   ]
  },
  {
   "cell_type": "markdown",
   "metadata": {},
   "source": [
    "# Vertex normal"
   ]
  },
  {
   "cell_type": "code",
   "execution_count": 3,
   "metadata": {},
   "outputs": [
    {
     "name": "stdout",
     "output_type": "stream",
     "text": [
      "Plot saved to file standard_normal.html.\n"
     ]
    },
    {
     "data": {
      "text/plain": [
       "<meshplot.Viewer.Viewer at 0x28172747040>"
      ]
     },
     "execution_count": 3,
     "metadata": {},
     "output_type": "execute_result"
    }
   ],
   "source": [
    "#Standard face normal\n",
    "f_normals = np.zeros((v.shape[0],3))\n",
    "\n",
    "for fi in range(f.shape[0]):\n",
    "    # get the vector e1, e2\n",
    "    a = v[f[fi,0]]\n",
    "    b = v[f[fi,1]]\n",
    "    c = v[f[fi,2]]\n",
    "    e1 = b-a\n",
    "    e2 = c-a\n",
    "    face_normal = np.cross(e1,e2)\n",
    "    face_normal = face_normal/np.linalg.norm(face_normal)\n",
    "    for j in range(3):\n",
    "        f_normals[f[fi,j],:] += face_normal\n",
    "norm = np.linalg.norm(f_normals,axis=1)\n",
    "f_normals[:,0] /= norm\n",
    "f_normals[:,1] /= norm\n",
    "f_normals[:,2] /= norm\n",
    "mp.plot(v,f, n=f_normals, shading={\"flat\": False},filename = \"standard_normal\")"
   ]
  },
  {
   "cell_type": "code",
   "execution_count": 4,
   "metadata": {},
   "outputs": [
    {
     "name": "stdout",
     "output_type": "stream",
     "text": [
      "Plot saved to file area_normals.html.\n"
     ]
    },
    {
     "data": {
      "text/plain": [
       "<meshplot.Viewer.Viewer at 0x2816fc3e910>"
      ]
     },
     "execution_count": 4,
     "metadata": {},
     "output_type": "execute_result"
    }
   ],
   "source": [
    "#Area-weighted face normal\n",
    "a_normals = np.zeros((v.shape[0],3))\n",
    "\n",
    "for fi in range(f.shape[0]):\n",
    "    # get the vector e1, e2\n",
    "    a = v[f[fi,0]]\n",
    "    b = v[f[fi,1]]\n",
    "    c = v[f[fi,2]]\n",
    "    e1 = b-a\n",
    "    e2 = c-a\n",
    "    face_normal = np.cross(e1,e2)/2\n",
    "    for j in range(3):\n",
    "        a_normals[f[fi,j],:] += face_normal\n",
    "norm = np.linalg.norm(a_normals,axis=1)\n",
    "a_normals[:,0] /= norm\n",
    "a_normals[:,1] /= norm\n",
    "a_normals[:,2] /= norm\n",
    "\n",
    "mp.plot(v,f, n=a_normals, shading={\"flat\": False},filename = \"area_normals\")"
   ]
  },
  {
   "cell_type": "code",
   "execution_count": 5,
   "metadata": {},
   "outputs": [
    {
     "name": "stdout",
     "output_type": "stream",
     "text": [
      "Plot saved to file Mean_curvature_normal.html.\n"
     ]
    },
    {
     "data": {
      "text/plain": [
       "<meshplot.Viewer.Viewer at 0x28172747310>"
      ]
     },
     "execution_count": 5,
     "metadata": {},
     "output_type": "execute_result"
    }
   ],
   "source": [
    "#Mean-curvature normal\n",
    "normals = np.zeros((v.shape[0],3))\n",
    "L = igl.cotmatrix(v,f)\n",
    "tHn = L@v\n",
    "\n",
    "norm = np.linalg.norm(tHn,axis = 1)\n",
    "\n",
    "normals[:,0] = tHn[:,0]/norm\n",
    "normals[:,1] = tHn[:,1]/norm\n",
    "normals[:,2] = tHn[:,2]/norm\n",
    "\n",
    "eps = 0.00005\n",
    "# align all normal with the face normal direction\n",
    "for i in range(normals.shape[0]):\n",
    "    angle = np.arccos(np.dot(normals[i],f_normals[i]) / (np.linalg.norm(normals[i])*np.linalg.norm(f_normals[i])))\n",
    "    temp_normal = normals[i].copy() * -1\n",
    "    angle2 = np.arccos(np.dot(temp_normal,f_normals[i]) / (np.linalg.norm(temp_normal)*np.linalg.norm(f_normals[i])))\n",
    "    if angle > angle2:\n",
    "        normals[i] = temp_normal\n",
    "\n",
    "# change normal to face normal if norm is too small\n",
    "normals[norm < eps,:] = a_normals[norm < eps,:]\n",
    "\n",
    "mp.plot(v,f, n=normals, shading={\"flat\": False},filename = \"Mean_curvature_normal\")"
   ]
  },
  {
   "cell_type": "code",
   "execution_count": 6,
   "metadata": {},
   "outputs": [
    {
     "name": "stdout",
     "output_type": "stream",
     "text": [
      "Plot saved to file PCA_normal.html.\n"
     ]
    },
    {
     "data": {
      "text/plain": [
       "<meshplot.Viewer.Viewer at 0x28172761fd0>"
      ]
     },
     "execution_count": 6,
     "metadata": {},
     "output_type": "execute_result"
    }
   ],
   "source": [
    "#PCA normal\n",
    "p_normals = np.zeros((v.shape[0],3))\n",
    "k = 5\n",
    "# find kth nearest neighbours\n",
    "from scipy.spatial import distance\n",
    "D = distance.squareform(distance.pdist(v))\n",
    "closest = np.argsort(D, axis=1)\n",
    "closest_matrix = closest[:,:k]\n",
    "\n",
    "for vi in range(v.shape[0]):\n",
    "    dist = np.zeros((v.shape[0],1))\n",
    "    \n",
    "    # calculate centroid\n",
    "    xavg = 0\n",
    "    yavg = 0\n",
    "    zavg = 0\n",
    "    for i in range(k):\n",
    "        xavg += v[closest_matrix[vi,i],0]\n",
    "        yavg += v[closest_matrix[vi,i],1]\n",
    "        zavg += v[closest_matrix[vi,i],2]\n",
    "    xavg/=k\n",
    "    yavg/=k\n",
    "    zavg/=k\n",
    "    m = np.array((xavg,yavg,zavg))\n",
    "    Y = v[closest_matrix[vi]]-m\n",
    "    cov = Y.T @ Y\n",
    "    lam,vs = np.linalg.eig(cov)\n",
    "    min_lam = np.argmin(lam)\n",
    "    p_normals[vi] = vs[min_lam]\n",
    "\n",
    "# align all normal with the face normal direction\n",
    "x = 0\n",
    "y = 0\n",
    "for i in range(p_normals.shape[0]):\n",
    "    angle = np.arccos(np.dot(p_normals[i],f_normals[i]) / (np.linalg.norm(p_normals[i])*np.linalg.norm(f_normals[i])))\n",
    "    temp_normal = p_normals[i].copy() * -1\n",
    "    angle2 = np.arccos(np.dot(temp_normal,f_normals[i]) / (np.linalg.norm(temp_normal)*np.linalg.norm(f_normals[i])))\n",
    "    if angle > angle2:\n",
    "        p_normals[i] = temp_normal\n",
    "        x += 1\n",
    "    else:\n",
    "        y+=1\n",
    "\n",
    "mp.plot(v,f, n=p_normals, shading={\"flat\": False},filename = \"PCA_normal\")"
   ]
  },
  {
   "cell_type": "code",
   "execution_count": 7,
   "metadata": {},
   "outputs": [],
   "source": [
    "#Quadratic fitting normal\n"
   ]
  },
  {
   "cell_type": "markdown",
   "metadata": {},
   "source": [
    "# Curvature"
   ]
  },
  {
   "cell_type": "code",
   "execution_count": 8,
   "metadata": {
    "scrolled": true
   },
   "outputs": [
    {
     "name": "stdout",
     "output_type": "stream",
     "text": [
      "[-0.02920445  0.11949715  0.02537773 ...  0.01178756  0.27662998\n",
      " -0.00310689]\n",
      "Plot saved to file gaussian.html.\n"
     ]
    }
   ],
   "source": [
    "#gaussian curvature\n",
    "k = igl.gaussian_curvature(v, f)\n",
    "print(k)\n",
    "\n",
    "# colour by curvature\n",
    "ind = np.zeros((v.shape[0]))\n",
    "for ki in range(k.shape[0]):\n",
    "    if k[ki] >= 0:\n",
    "        ind[ki]=1\n",
    "    else:\n",
    "        ind[ki]=2\n",
    "p = mp.plot(v, f, c=ind, shading={\"flat\": True},filename = \"gaussian\")"
   ]
  },
  {
   "cell_type": "code",
   "execution_count": 9,
   "metadata": {},
   "outputs": [
    {
     "name": "stdout",
     "output_type": "stream",
     "text": [
      "Plot saved to file principle.html.\n"
     ]
    }
   ],
   "source": [
    "# principal curvature\n",
    "v1, v2, k1, k2 = igl.principal_curvature(v, f)\n",
    "h2 = 0.5 * (k1 + k2)\n",
    "p = mp.plot(v, f, h2, shading={\"wireframe\": False},filename=\"principle\")\n",
    "\n",
    "avg = igl.avg_edge_length(v, f) / 2.0\n",
    "p.add_lines(v + v1 * avg, v - v1 * avg, shading={\"line_color\": \"red\"})\n",
    "p.add_lines(v + v2 * avg, v - v2 * avg, shading={\"line_color\": \"green\"})"
   ]
  },
  {
   "cell_type": "markdown",
   "metadata": {},
   "source": [
    "# Smoothing with the Laplacian"
   ]
  },
  {
   "cell_type": "code",
   "execution_count": 10,
   "metadata": {},
   "outputs": [],
   "source": [
    "from scipy.sparse.linalg import spsolve\n",
    "import scipy.sparse as sp"
   ]
  },
  {
   "cell_type": "code",
   "execution_count": 11,
   "metadata": {
    "scrolled": true
   },
   "outputs": [
    {
     "name": "stdout",
     "output_type": "stream",
     "text": [
      "Plot saved to file explicit.html.\n"
     ]
    }
   ],
   "source": [
    "# Explicit laplacian\n",
    "iterations = 10000\n",
    "lam = 0.001\n",
    "v, f = igl.read_triangle_mesh(\"data/cow.off\")\n",
    "l = igl.cotmatrix(v, f)\n",
    "n = igl.per_vertex_normals(v, f)*0.5+0.5\n",
    "c = np.linalg.norm(n, axis=1)\n",
    "l = igl.cotmatrix(v, f)\n",
    "m = igl.massmatrix(v, f, igl.MASSMATRIX_TYPE_BARYCENTRIC)\n",
    "#m = igl.massmatrix(v, f, igl.MASSMATRIX_TYPE_VORONOI)\n",
    "\n",
    "# for loop to control the number of iterations\n",
    "for i in range(iterations):\n",
    "    Minv = sp.diags(1 / m.diagonal())\n",
    "    L = Minv @ l\n",
    "    v = v + lam*0.001*L.dot(v) # vn+1 = Vn + lam dt L(v)\n",
    "    n = igl.per_vertex_normals(v, f)*0.5+0.5\n",
    "    c = np.linalg.norm(n, axis=1)\n",
    "\n",
    "p = mp.plot(v, f, c, shading={\"wireframe\": False},filename=\"explicit\")"
   ]
  },
  {
   "cell_type": "code",
   "execution_count": 12,
   "metadata": {},
   "outputs": [
    {
     "name": "stdout",
     "output_type": "stream",
     "text": [
      "Plot saved to file implicit.html.\n"
     ]
    }
   ],
   "source": [
    "# implicit laplacian\n",
    "iterations = 1\n",
    "lam = 20\n",
    "v, f = igl.read_triangle_mesh(\"data/cow.off\")\n",
    "l = igl.cotmatrix(v, f)\n",
    "# do the 2d grid laplacian\n",
    "'''lnew = np.zeros(l.shape)\n",
    "vvr = igl.adjacency_list(f)\n",
    "for i in range(v.shape[0]):\n",
    "    #print(vvr[i])\n",
    "    sum = np.zeros((1,l.shape[1]))\n",
    "    #print(sum)\n",
    "    for j in range(len(vvr[i])):\n",
    "        sum = sum + l[vvr[i][j]] - l[i]\n",
    "        #print(sum)\n",
    "    lnew[i] = sum'''\n",
    "# covert to the uniform laplacian, incredibly inefficient implemtation\n",
    "'''for i in range(l.shape[0]):\n",
    "    for j in range(l.shape[1]):\n",
    "        if l[i,j] != 0 and i != j:\n",
    "            l[i,j] = 1\n",
    "    print(i)\n",
    "print(l)'''\n",
    "n = igl.per_vertex_normals(v, f)*0.5+0.5\n",
    "c = np.linalg.norm(n, axis=1)\n",
    "\n",
    "\n",
    "# for loop to control the number of iterations\n",
    "for i in range(iterations):\n",
    "    m = igl.massmatrix(v, f, igl.MASSMATRIX_TYPE_BARYCENTRIC)\n",
    "    #m = igl.massmatrix(v, f, igl.MASSMATRIX_TYPE_VORONOI)\n",
    "    s = (m - lam*0.001 * l)# results in L\n",
    "    v = spsolve(s, m.dot(v))\n",
    "    n = igl.per_vertex_normals(v, f)*0.5+0.5\n",
    "    c = np.linalg.norm(n, axis=1)\n",
    "\n",
    "\n",
    "p = mp.plot(v, f, c, shading={\"wireframe\": False},filename=\"implicit\")"
   ]
  },
  {
   "cell_type": "code",
   "execution_count": null,
   "metadata": {},
   "outputs": [],
   "source": []
  }
 ],
 "metadata": {
  "kernelspec": {
   "display_name": "Python 3.9.13 64-bit",
   "language": "python",
   "name": "python3"
  },
  "language_info": {
   "codemirror_mode": {
    "name": "ipython",
    "version": 3
   },
   "file_extension": ".py",
   "mimetype": "text/x-python",
   "name": "python",
   "nbconvert_exporter": "python",
   "pygments_lexer": "ipython3",
   "version": "3.9.13"
  },
  "vscode": {
   "interpreter": {
    "hash": "0b8b73a5298660088bcd0241742076eb9937cd5d219847a64dd45c0513e3705d"
   }
  }
 },
 "nbformat": 4,
 "nbformat_minor": 4
}
